{
 "cells": [
  {
   "cell_type": "raw",
   "metadata": {},
   "source": [
    "(1). Silahkan print(8 / 7) dan berikan comment # Ini adalah pembagian, lihat contoh di bawah ini"
   ]
  },
  {
   "cell_type": "code",
   "execution_count": 1,
   "metadata": {},
   "outputs": [
    {
     "name": "stdout",
     "output_type": "stream",
     "text": [
      "20\n"
     ]
    }
   ],
   "source": [
    "#Perkalian\n",
    "print(5 * 4)"
   ]
  },
  {
   "cell_type": "code",
   "execution_count": 2,
   "metadata": {},
   "outputs": [
    {
     "name": "stdout",
     "output_type": "stream",
     "text": [
      "1.1428571428571428\n"
     ]
    }
   ],
   "source": [
    "print(8 / 7)"
   ]
  },
  {
   "cell_type": "raw",
   "metadata": {},
   "source": [
    "(2) Lihat beberapa contoh di bawah ini"
   ]
  },
  {
   "cell_type": "code",
   "execution_count": 3,
   "metadata": {},
   "outputs": [
    {
     "name": "stdout",
     "output_type": "stream",
     "text": [
      "10\n",
      "0\n",
      "15\n",
      "5.0\n",
      "16\n",
      "4\n"
     ]
    }
   ],
   "source": [
    "print(5 + 5)\n",
    "print(5 - 5)\n",
    "\n",
    "# Perkalian dan pembagian\n",
    "print(3 * 5)\n",
    "print(10 / 2)\n",
    "\n",
    "# Perpangkatan\n",
    "print(4 ** 2)\n",
    "\n",
    "# Pembagian Modulo\n",
    "print(18 % 7)"
   ]
  },
  {
   "cell_type": "raw",
   "metadata": {},
   "source": [
    "(2) Jika kamu memilik uang seratus ribu rupiah di bank dan bank memberikan bunga 10 persen setiap tahunnya, berapakah uang yang kamu dapat dalam 7 tahun? Gunakan Python menjawabnya"
   ]
  },
  {
   "cell_type": "code",
   "execution_count": 14,
   "metadata": {},
   "outputs": [
    {
     "name": "stdout",
     "output_type": "stream",
     "text": [
      "170000.0\n"
     ]
    }
   ],
   "source": [
    "uang_awal = 100000\n",
    "bunga = 0.1\n",
    "uang_bunga = 100000 * 0.1 * 7\n",
    "uang_akhir = uang_awal + uang_bunga\n",
    "print(uang_akhir)\n"
   ]
  },
  {
   "cell_type": "raw",
   "metadata": {},
   "source": [
    "(3) Buat variabel simpanan dengan nilai 100000, kemudian print variabel simpanan"
   ]
  },
  {
   "cell_type": "code",
   "execution_count": 15,
   "metadata": {},
   "outputs": [
    {
     "name": "stdout",
     "output_type": "stream",
     "text": [
      "100000\n"
     ]
    }
   ],
   "source": [
    "simpanan = 100000\n",
    "print(simpanan)"
   ]
  },
  {
   "cell_type": "raw",
   "metadata": {},
   "source": [
    "(4) Buat variable faktor = 1.10\n",
    "Gunakan variabel simpanan dan faktor untuk menentukan berapa hasil yang didapat dalam 10 tahun dan simpan dalam variabel hasil\n",
    "print hasil"
   ]
  },
  {
   "cell_type": "code",
   "execution_count": 16,
   "metadata": {},
   "outputs": [
    {
     "name": "stdout",
     "output_type": "stream",
     "text": [
      "1.1e+50\n"
     ]
    }
   ],
   "source": [
    "faktor = 1.10\n",
    "hasil = faktor * simpanan ** 10\n",
    "print(hasil)"
   ]
  },
  {
   "cell_type": "raw",
   "metadata": {},
   "source": [
    "(5) Kalikan simpanan dan faktor dan simpan dalam variabel hasil_1\n",
    "Apakah tipe data dari hasil 1? Silahkan print tipe datanya\n",
    "Buatlah variabel desc = \"Sains Data\"\n",
    "Jumlahkan desc dengan desc bagaimana hasilnya? Simpan pada variabel dobel_desc\n",
    "print dobel_desc"
   ]
  },
  {
   "cell_type": "code",
   "execution_count": 13,
   "metadata": {},
   "outputs": [
    {
     "name": "stdout",
     "output_type": "stream",
     "text": [
      "<class 'float'>\n",
      "Sains DataSains Data\n"
     ]
    }
   ],
   "source": [
    "hasil_1 = simpanan * faktor\n",
    "print(type(hasil_1))\n",
    "desc = \"Sains Data\"\n",
    "dobel_desc = desc + desc\n",
    "print(dobel_desc)"
   ]
  },
  {
   "cell_type": "markdown",
   "metadata": {},
   "source": [
    "(6). Lihat error di bawah ini bagaiman kamu menyelesaikannya?"
   ]
  },
  {
   "cell_type": "code",
   "execution_count": 30,
   "metadata": {},
   "outputs": [
    {
     "name": "stdout",
     "output_type": "stream",
     "text": [
      "Uang saya awalnya 100000 dan saya sekarang punya 194871.7100000001\n"
     ]
    }
   ],
   "source": [
    "# Simpanan dan hasil\n",
    "simpanan_x = 100000\n",
    "hasil_x = 100000 * 1.10 ** 7\n",
    "\n",
    "# Fix the printout\n",
    "print(\"Uang saya awalnya \" + str(simpanan_x) + \" dan saya sekarang punya \" +str(hasil_x) )"
   ]
  }
 ],
 "metadata": {
  "kernelspec": {
   "display_name": "Python 3",
   "language": "python",
   "name": "python3"
  },
  "language_info": {
   "codemirror_mode": {
    "name": "ipython",
    "version": 3
   },
   "file_extension": ".py",
   "mimetype": "text/x-python",
   "name": "python",
   "nbconvert_exporter": "python",
   "pygments_lexer": "ipython3",
   "version": "3.7.6"
  }
 },
 "nbformat": 4,
 "nbformat_minor": 4
}
